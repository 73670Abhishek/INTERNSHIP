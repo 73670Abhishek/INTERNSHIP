{
 "cells": [
  {
   "cell_type": "markdown",
   "id": "07387baf",
   "metadata": {},
   "source": [
    "# Write a python program to find the factorial of a number."
   ]
  },
  {
   "cell_type": "code",
   "execution_count": 2,
   "id": "63035c2f",
   "metadata": {},
   "outputs": [
    {
     "name": "stdout",
     "output_type": "stream",
     "text": [
      "enter a no.10\n",
      "factorial=  3628800\n"
     ]
    }
   ],
   "source": [
    "i = int(input(\"enter a no.\"))\n",
    "fact = 1\n",
    "while i > 0 :\n",
    "    fact = fact * i\n",
    "    i -= 1\n",
    "print(\"factorial= \",fact)   "
   ]
  },
  {
   "cell_type": "markdown",
   "id": "c80dcb5e",
   "metadata": {},
   "source": [
    "# Write a python program to find whether a number is prime or composite.\n"
   ]
  },
  {
   "cell_type": "code",
   "execution_count": 4,
   "id": "78d5526b",
   "metadata": {},
   "outputs": [
    {
     "name": "stdout",
     "output_type": "stream",
     "text": [
      "enter a no.8\n",
      "composite no.\n"
     ]
    }
   ],
   "source": [
    "n = int(input(\"enter a no.\"))\n",
    "count = 0\n",
    "i = 1\n",
    "while i <= n:\n",
    "    if (n%i == 0):\n",
    "        count = count + 1\n",
    "    i = i + 1\n",
    "if(count == 2):\n",
    "    print(\"prime number\")\n",
    "else:\n",
    "    print(\"composite no.\")"
   ]
  },
  {
   "cell_type": "markdown",
   "id": "c084d107",
   "metadata": {},
   "source": [
    "# Write a python program to check whether a given string is palindrome or not.\n"
   ]
  },
  {
   "cell_type": "code",
   "execution_count": 6,
   "id": "026602df",
   "metadata": {},
   "outputs": [
    {
     "name": "stdout",
     "output_type": "stream",
     "text": [
      "enter string:taat\n",
      "palindrome\n"
     ]
    }
   ],
   "source": [
    "a = input(\"enter string:\")\n",
    "b = a[-1::-1]\n",
    "if (a==b):\n",
    "    print(\"palindrome\")\n",
    "else:\n",
    "    print(\"not palindrome\")"
   ]
  },
  {
   "cell_type": "markdown",
   "id": "6eda1233",
   "metadata": {},
   "source": [
    "# Write a Python program to get the third side of right-angled triangle from two given sides."
   ]
  },
  {
   "cell_type": "code",
   "execution_count": 8,
   "id": "05d61e5d",
   "metadata": {},
   "outputs": [
    {
     "name": "stdout",
     "output_type": "stream",
     "text": [
      "enter length:2\n",
      "enter breath:3\n",
      "hypotenuse of right angled triangle is: 3.605551275463989\n"
     ]
    }
   ],
   "source": [
    "import math\n",
    "l = float(input(\"enter length:\"))\n",
    "b = float(input(\"enter breath:\"))\n",
    "h = math.sqrt(l**2 + b**2)\n",
    "print(\"hypotenuse of right angled triangle is:\", h)"
   ]
  },
  {
   "cell_type": "markdown",
   "id": "a4cd01b7",
   "metadata": {},
   "source": [
    "# Write a python program to print the frequency of each of the characters present in a given string."
   ]
  },
  {
   "cell_type": "code",
   "execution_count": 9,
   "id": "0d0cf18f",
   "metadata": {},
   "outputs": [
    {
     "name": "stdout",
     "output_type": "stream",
     "text": [
      "enter any string:elephant\n",
      "enter search char:e\n",
      "frequency of word: 2\n"
     ]
    }
   ],
   "source": [
    "str = input(\"enter any string:\")\n",
    "ch = input(\"enter search char:\")\n",
    "f = 0\n",
    "for i in str:\n",
    "    if i == ch:\n",
    "        f = f + 1\n",
    "print(\"frequency of word:\",f)        "
   ]
  },
  {
   "cell_type": "code",
   "execution_count": null,
   "id": "a5e5c8c0",
   "metadata": {},
   "outputs": [],
   "source": []
  }
 ],
 "metadata": {
  "kernelspec": {
   "display_name": "Python 3 (ipykernel)",
   "language": "python",
   "name": "python3"
  },
  "language_info": {
   "codemirror_mode": {
    "name": "ipython",
    "version": 3
   },
   "file_extension": ".py",
   "mimetype": "text/x-python",
   "name": "python",
   "nbconvert_exporter": "python",
   "pygments_lexer": "ipython3",
   "version": "3.11.5"
  }
 },
 "nbformat": 4,
 "nbformat_minor": 5
}
